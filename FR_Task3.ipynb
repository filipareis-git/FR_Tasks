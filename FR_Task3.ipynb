{
 "cells": [
  {
   "cell_type": "markdown",
   "metadata": {},
   "source": [
    "### Connect to SQL Magic"
   ]
  },
  {
   "cell_type": "code",
   "execution_count": 2,
   "metadata": {},
   "outputs": [],
   "source": [
    "%load_ext sql"
   ]
  },
  {
   "cell_type": "code",
   "execution_count": 3,
   "metadata": {},
   "outputs": [
    {
     "data": {
      "text/plain": [
       "'Connected: @None'"
      ]
     },
     "execution_count": 3,
     "metadata": {},
     "output_type": "execute_result"
    }
   ],
   "source": [
    "%sql sqlite://"
   ]
  },
  {
   "cell_type": "markdown",
   "metadata": {},
   "source": [
    "### Import data with Pandas"
   ]
  },
  {
   "cell_type": "code",
   "execution_count": 4,
   "metadata": {},
   "outputs": [
    {
     "name": "stdout",
     "output_type": "stream",
     "text": [
      " * sqlite://\n",
      " * sqlite://\n",
      " * sqlite://\n"
     ]
    },
    {
     "data": {
      "text/plain": [
       "'Persisted class_catalogue'"
      ]
     },
     "execution_count": 4,
     "metadata": {},
     "output_type": "execute_result"
    }
   ],
   "source": [
    "import pandas\n",
    "exam_results = pandas.read_csv(r\"C:\\Users\\anafi\\Documents\\Personal\\Applications\\2020\\Roche\\Tasks\\Task3\\exam_results.csv\")\n",
    "%sql PERSIST exam_results\n",
    "\n",
    "import pandas\n",
    "students = pandas.read_csv(r\"C:\\Users\\anafi\\Documents\\Personal\\Applications\\2020\\Roche\\Tasks\\Task3\\students.csv\")\n",
    "%sql PERSIST students\n",
    "\n",
    "import pandas\n",
    "class_catalogue = pandas.read_csv(r\"C:\\Users\\anafi\\Documents\\Personal\\Applications\\2020\\Roche\\Tasks\\Task3\\class_catalogue.csv\")\n",
    "%sql PERSIST class_catalogue"
   ]
  },
  {
   "cell_type": "markdown",
   "metadata": {},
   "source": [
    "### View tables"
   ]
  },
  {
   "cell_type": "code",
   "execution_count": 5,
   "metadata": {},
   "outputs": [
    {
     "name": "stdout",
     "output_type": "stream",
     "text": [
      " * sqlite://\n",
      "Done.\n"
     ]
    },
    {
     "data": {
      "text/html": [
       "<table>\n",
       "    <tr>\n",
       "        <th>index</th>\n",
       "        <th>student_id</th>\n",
       "        <th>name</th>\n",
       "        <th>surname</th>\n",
       "        <th>birth_date</th>\n",
       "        <th>faculty</th>\n",
       "    </tr>\n",
       "    <tr>\n",
       "        <td>0</td>\n",
       "        <td>34577</td>\n",
       "        <td>John</td>\n",
       "        <td>Peters</td>\n",
       "        <td>02/15/93</td>\n",
       "        <td>Mathematics</td>\n",
       "    </tr>\n",
       "    <tr>\n",
       "        <td>1</td>\n",
       "        <td>34578</td>\n",
       "        <td>Kate</td>\n",
       "        <td>Smith</td>\n",
       "        <td>10/29/92</td>\n",
       "        <td>Economy</td>\n",
       "    </tr>\n",
       "</table>"
      ],
      "text/plain": [
       "[(0, 34577, 'John', 'Peters', '02/15/93', 'Mathematics'),\n",
       " (1, 34578, 'Kate', 'Smith', '10/29/92', 'Economy')]"
      ]
     },
     "execution_count": 5,
     "metadata": {},
     "output_type": "execute_result"
    }
   ],
   "source": [
    "%sql select * from students"
   ]
  },
  {
   "cell_type": "code",
   "execution_count": 6,
   "metadata": {},
   "outputs": [
    {
     "name": "stdout",
     "output_type": "stream",
     "text": [
      " * sqlite://\n",
      "Done.\n"
     ]
    },
    {
     "data": {
      "text/html": [
       "<table>\n",
       "    <tr>\n",
       "        <th>index</th>\n",
       "        <th>class_id</th>\n",
       "        <th>class_name</th>\n",
       "        <th>professor_id</th>\n",
       "        <th>semester</th>\n",
       "    </tr>\n",
       "    <tr>\n",
       "        <td>0</td>\n",
       "        <td>6743</td>\n",
       "        <td>algebra</td>\n",
       "        <td>4352</td>\n",
       "        <td>2019_summer</td>\n",
       "    </tr>\n",
       "    <tr>\n",
       "        <td>1</td>\n",
       "        <td>2876</td>\n",
       "        <td>calculus</td>\n",
       "        <td>5325</td>\n",
       "        <td>2019_summer</td>\n",
       "    </tr>\n",
       "    <tr>\n",
       "        <td>2</td>\n",
       "        <td>3466</td>\n",
       "        <td>statistics</td>\n",
       "        <td>6253</td>\n",
       "        <td>2019_winter</td>\n",
       "    </tr>\n",
       "</table>"
      ],
      "text/plain": [
       "[(0, 6743, 'algebra', 4352, '2019_summer'),\n",
       " (1, 2876, 'calculus', 5325, '2019_summer'),\n",
       " (2, 3466, 'statistics', 6253, '2019_winter')]"
      ]
     },
     "execution_count": 6,
     "metadata": {},
     "output_type": "execute_result"
    }
   ],
   "source": [
    "%sql select * from class_catalogue"
   ]
  },
  {
   "cell_type": "code",
   "execution_count": 7,
   "metadata": {},
   "outputs": [
    {
     "name": "stdout",
     "output_type": "stream",
     "text": [
      " * sqlite://\n",
      "Done.\n"
     ]
    },
    {
     "data": {
      "text/html": [
       "<table>\n",
       "    <tr>\n",
       "        <th>index</th>\n",
       "        <th>student_id</th>\n",
       "        <th>class_id</th>\n",
       "        <th>exam_date</th>\n",
       "        <th>grade</th>\n",
       "    </tr>\n",
       "    <tr>\n",
       "        <td>0</td>\n",
       "        <td>34577</td>\n",
       "        <td>6743</td>\n",
       "        <td>06/19/19</td>\n",
       "        <td>2.0</td>\n",
       "    </tr>\n",
       "    <tr>\n",
       "        <td>1</td>\n",
       "        <td>34577</td>\n",
       "        <td>2876</td>\n",
       "        <td>06/06/19</td>\n",
       "        <td>3.0</td>\n",
       "    </tr>\n",
       "    <tr>\n",
       "        <td>2</td>\n",
       "        <td>34578</td>\n",
       "        <td>6743</td>\n",
       "        <td>06/19/19</td>\n",
       "        <td>4.5</td>\n",
       "    </tr>\n",
       "</table>"
      ],
      "text/plain": [
       "[(0, 34577, 6743, '06/19/19', 2.0),\n",
       " (1, 34577, 2876, '06/06/19', 3.0),\n",
       " (2, 34578, 6743, '06/19/19', 4.5)]"
      ]
     },
     "execution_count": 7,
     "metadata": {},
     "output_type": "execute_result"
    }
   ],
   "source": [
    "%sql select * from exam_results"
   ]
  },
  {
   "cell_type": "markdown",
   "metadata": {},
   "source": [
    "### Task: Students who scored 4 and above on their algebra exam"
   ]
  },
  {
   "cell_type": "code",
   "execution_count": 8,
   "metadata": {},
   "outputs": [
    {
     "name": "stdout",
     "output_type": "stream",
     "text": [
      " * sqlite://\n",
      "Done.\n"
     ]
    },
    {
     "data": {
      "text/html": [
       "<table>\n",
       "    <tr>\n",
       "        <th>student_id</th>\n",
       "        <th>name</th>\n",
       "        <th>surname</th>\n",
       "    </tr>\n",
       "    <tr>\n",
       "        <td>34578</td>\n",
       "        <td>Kate</td>\n",
       "        <td>Smith</td>\n",
       "    </tr>\n",
       "</table>"
      ],
      "text/plain": [
       "[(34578, 'Kate', 'Smith')]"
      ]
     },
     "execution_count": 8,
     "metadata": {},
     "output_type": "execute_result"
    }
   ],
   "source": [
    "%%sql select S.student_id, S.name, S.surname\n",
    "from students as S \n",
    "inner join exam_results as ER on S.student_id = ER.student_id \n",
    "inner join class_catalogue as CC on CC.class_id = ER.class_id \n",
    "where CC.class_name = 'algebra' and ER.grade >= 4"
   ]
  }
 ],
 "metadata": {
  "kernelspec": {
   "display_name": "Python 3",
   "language": "python",
   "name": "python3"
  },
  "language_info": {
   "codemirror_mode": {
    "name": "ipython",
    "version": 3
   },
   "file_extension": ".py",
   "mimetype": "text/x-python",
   "name": "python",
   "nbconvert_exporter": "python",
   "pygments_lexer": "ipython3",
   "version": "3.7.3"
  }
 },
 "nbformat": 4,
 "nbformat_minor": 2
}
